{
 "cells": [
  {
   "cell_type": "code",
   "execution_count": 21,
   "id": "d3dc56b5-7902-40a5-88ab-98c9e9eceb01",
   "metadata": {},
   "outputs": [
    {
     "data": {
      "text/plain": [
       "0       The Taiwan Precision Medicine Initiative (TPMI...\n",
       "1       Cryptic pockets are of growing interest as pot...\n",
       "2       Despite decades of reports of weak magnetic fi...\n",
       "3       Ultrasound imaging holds significant promise f...\n",
       "4       Biomaterial coatings and films can prevent pre...\n",
       "                              ...                        \n",
       "1707                                                  NaN\n",
       "1708    HIV-1 infection requires life-long therapy wit...\n",
       "1709                                                  NaN\n",
       "1710    Background: 3′-tag-based sequencing methods ha...\n",
       "1711                                                  NaN\n",
       "Name: abstract, Length: 1712, dtype: object"
      ]
     },
     "execution_count": 21,
     "metadata": {},
     "output_type": "execute_result"
    }
   ],
   "source": [
    "import pandas as pd\n",
    "df=pd.read_csv(r'C:\\Users\\PC\\PycharmProjects\\scientificpapers\\papers\\final2.csv')\n",
    "df['abstract']\n"
   ]
  },
  {
   "cell_type": "code",
   "execution_count": 22,
   "id": "7e8d797b-2a6b-4629-9e6f-026daa4b3e68",
   "metadata": {},
   "outputs": [
    {
     "data": {
      "text/plain": [
       "589"
      ]
     },
     "execution_count": 22,
     "metadata": {},
     "output_type": "execute_result"
    }
   ],
   "source": [
    "df['abstract'].isnull().sum()"
   ]
  },
  {
   "cell_type": "code",
   "execution_count": 23,
   "id": "58b33d0e-02b9-4c76-bad5-7794817d29b7",
   "metadata": {},
   "outputs": [
    {
     "data": {
      "text/plain": [
       "0       The Taiwan Precision Medicine Initiative (TPMI...\n",
       "1       Cryptic pockets are of growing interest as pot...\n",
       "2       Despite decades of reports of weak magnetic fi...\n",
       "3       Ultrasound imaging holds significant promise f...\n",
       "4       Biomaterial coatings and films can prevent pre...\n",
       "                              ...                        \n",
       "1707                                                  NaN\n",
       "1708    HIV-1 infection requires life-long therapy wit...\n",
       "1709                                                  NaN\n",
       "1710    Background: 3′-tag-based sequencing methods ha...\n",
       "1711                                                  NaN\n",
       "Name: abstract, Length: 1712, dtype: object"
      ]
     },
     "execution_count": 23,
     "metadata": {},
     "output_type": "execute_result"
    }
   ],
   "source": [
    "df2=df['abstract']\n",
    "df2"
   ]
  },
  {
   "cell_type": "code",
   "execution_count": 24,
   "id": "2da9c221-bb32-4438-8080-f9e0c8df37dd",
   "metadata": {},
   "outputs": [
    {
     "data": {
      "text/html": [
       "<div>\n",
       "<style scoped>\n",
       "    .dataframe tbody tr th:only-of-type {\n",
       "        vertical-align: middle;\n",
       "    }\n",
       "\n",
       "    .dataframe tbody tr th {\n",
       "        vertical-align: top;\n",
       "    }\n",
       "\n",
       "    .dataframe thead th {\n",
       "        text-align: right;\n",
       "    }\n",
       "</style>\n",
       "<table border=\"1\" class=\"dataframe\">\n",
       "  <thead>\n",
       "    <tr style=\"text-align: right;\">\n",
       "      <th></th>\n",
       "      <th>abstract</th>\n",
       "    </tr>\n",
       "  </thead>\n",
       "  <tbody>\n",
       "    <tr>\n",
       "      <th>0</th>\n",
       "      <td>The Taiwan Precision Medicine Initiative (TPMI...</td>\n",
       "    </tr>\n",
       "    <tr>\n",
       "      <th>1</th>\n",
       "      <td>Cryptic pockets are of growing interest as pot...</td>\n",
       "    </tr>\n",
       "    <tr>\n",
       "      <th>2</th>\n",
       "      <td>Despite decades of reports of weak magnetic fi...</td>\n",
       "    </tr>\n",
       "    <tr>\n",
       "      <th>3</th>\n",
       "      <td>Ultrasound imaging holds significant promise f...</td>\n",
       "    </tr>\n",
       "    <tr>\n",
       "      <th>4</th>\n",
       "      <td>Biomaterial coatings and films can prevent pre...</td>\n",
       "    </tr>\n",
       "    <tr>\n",
       "      <th>...</th>\n",
       "      <td>...</td>\n",
       "    </tr>\n",
       "    <tr>\n",
       "      <th>1702</th>\n",
       "      <td>In biology, messenger RNA (mRNA) plays a cruci...</td>\n",
       "    </tr>\n",
       "    <tr>\n",
       "      <th>1703</th>\n",
       "      <td>Nanopore direct RNA sequencing (DRS) advances ...</td>\n",
       "    </tr>\n",
       "    <tr>\n",
       "      <th>1704</th>\n",
       "      <td>Krabbe disease (KD) is an autosomal recessive ...</td>\n",
       "    </tr>\n",
       "    <tr>\n",
       "      <th>1708</th>\n",
       "      <td>HIV-1 infection requires life-long therapy wit...</td>\n",
       "    </tr>\n",
       "    <tr>\n",
       "      <th>1710</th>\n",
       "      <td>Background: 3′-tag-based sequencing methods ha...</td>\n",
       "    </tr>\n",
       "  </tbody>\n",
       "</table>\n",
       "<p>1123 rows × 1 columns</p>\n",
       "</div>"
      ],
      "text/plain": [
       "                                               abstract\n",
       "0     The Taiwan Precision Medicine Initiative (TPMI...\n",
       "1     Cryptic pockets are of growing interest as pot...\n",
       "2     Despite decades of reports of weak magnetic fi...\n",
       "3     Ultrasound imaging holds significant promise f...\n",
       "4     Biomaterial coatings and films can prevent pre...\n",
       "...                                                 ...\n",
       "1702  In biology, messenger RNA (mRNA) plays a cruci...\n",
       "1703  Nanopore direct RNA sequencing (DRS) advances ...\n",
       "1704  Krabbe disease (KD) is an autosomal recessive ...\n",
       "1708  HIV-1 infection requires life-long therapy wit...\n",
       "1710  Background: 3′-tag-based sequencing methods ha...\n",
       "\n",
       "[1123 rows x 1 columns]"
      ]
     },
     "execution_count": 24,
     "metadata": {},
     "output_type": "execute_result"
    }
   ],
   "source": [
    "df3=pd.DataFrame(df2.dropna())\n",
    "df3"
   ]
  },
  {
   "cell_type": "code",
   "execution_count": 25,
   "id": "752ecedb-1d12-4beb-b476-d8d712eb274d",
   "metadata": {},
   "outputs": [],
   "source": [
    "df3=df3.reset_index()\n",
    "df3['abstract']=df3['abstract'].str.lower()"
   ]
  },
  {
   "cell_type": "code",
   "execution_count": 26,
   "id": "1cb7b72a-b8c5-4396-8647-57cd11b5f5a9",
   "metadata": {},
   "outputs": [],
   "source": [
    "import string\n",
    "exclude=string.punctuation\n",
    "exclude=exclude.replace('.','')"
   ]
  },
  {
   "cell_type": "code",
   "execution_count": 27,
   "id": "2ed0771b-3799-41a5-842f-576a98675e3a",
   "metadata": {},
   "outputs": [],
   "source": [
    "def remove_punc(text):\n",
    "    for char in exclude:\n",
    "        text=text.replace(char,'')\n",
    "    return text"
   ]
  },
  {
   "cell_type": "code",
   "execution_count": 28,
   "id": "4b34c14c-94c2-4e43-b967-1e36173b7cb8",
   "metadata": {},
   "outputs": [
    {
     "data": {
      "text/plain": [
       "'hiv-1 infection requires life-long therapy with anti-retroviral drugs due to the existence of a latent reservoir of transcriptionally inactive integrated proviruses. the goal of hiv-1 cure research is to eliminate or functionally silence this reservoir. to this end there are numerous ongoing studies to evaluate immunologic approaches including monoclonal antibody therapies. evaluating the results of these studies requires sensitive and specific measures of the reservoir. here we describe a relatively high throughput combined quantitative polymerase chain reaction (qpcr) and next generation sequencing method. four different qpcr probes covering the packaging signal ('"
      ]
     },
     "execution_count": 28,
     "metadata": {},
     "output_type": "execute_result"
    }
   ],
   "source": [
    "df3['abstract'][459]"
   ]
  },
  {
   "cell_type": "code",
   "execution_count": 29,
   "id": "9f976cc9-7393-4e22-b978-58bb5cced823",
   "metadata": {},
   "outputs": [],
   "source": [
    "df3['abstract']=df3['abstract'].apply(remove_punc)"
   ]
  },
  {
   "cell_type": "code",
   "execution_count": 30,
   "id": "c8ecf644-b222-4bf8-af2e-898db5ebbef5",
   "metadata": {},
   "outputs": [
    {
     "data": {
      "text/plain": [
       "'hiv1 infection requires lifelong therapy with antiretroviral drugs due to the existence of a latent reservoir of transcriptionally inactive integrated proviruses. the goal of hiv1 cure research is to eliminate or functionally silence this reservoir. to this end there are numerous ongoing studies to evaluate immunologic approaches including monoclonal antibody therapies. evaluating the results of these studies requires sensitive and specific measures of the reservoir. here we describe a relatively high throughput combined quantitative polymerase chain reaction qpcr and next generation sequencing method. four different qpcr probes covering the packaging signal '"
      ]
     },
     "execution_count": 30,
     "metadata": {},
     "output_type": "execute_result"
    }
   ],
   "source": [
    "df3['abstract'][459]"
   ]
  },
  {
   "cell_type": "code",
   "execution_count": 31,
   "id": "1000645c-7237-42c5-b340-51d03a6ca5b0",
   "metadata": {},
   "outputs": [],
   "source": [
    "from nltk.tokenize import word_tokenize,sent_tokenize"
   ]
  },
  {
   "cell_type": "code",
   "execution_count": 32,
   "id": "8059c36a-750d-4651-97b6-81c783d98085",
   "metadata": {},
   "outputs": [
    {
     "data": {
      "text/html": [
       "<div>\n",
       "<style scoped>\n",
       "    .dataframe tbody tr th:only-of-type {\n",
       "        vertical-align: middle;\n",
       "    }\n",
       "\n",
       "    .dataframe tbody tr th {\n",
       "        vertical-align: top;\n",
       "    }\n",
       "\n",
       "    .dataframe thead th {\n",
       "        text-align: right;\n",
       "    }\n",
       "</style>\n",
       "<table border=\"1\" class=\"dataframe\">\n",
       "  <thead>\n",
       "    <tr style=\"text-align: right;\">\n",
       "      <th></th>\n",
       "      <th>index</th>\n",
       "      <th>abstract</th>\n",
       "    </tr>\n",
       "  </thead>\n",
       "  <tbody>\n",
       "    <tr>\n",
       "      <th>0</th>\n",
       "      <td>0</td>\n",
       "      <td>[the taiwan precision medicine initiative tpmi...</td>\n",
       "    </tr>\n",
       "    <tr>\n",
       "      <th>1</th>\n",
       "      <td>1</td>\n",
       "      <td>[cryptic pockets are of growing interest as po...</td>\n",
       "    </tr>\n",
       "    <tr>\n",
       "      <th>2</th>\n",
       "      <td>2</td>\n",
       "      <td>[despite decades of reports of weak magnetic f...</td>\n",
       "    </tr>\n",
       "    <tr>\n",
       "      <th>3</th>\n",
       "      <td>3</td>\n",
       "      <td>[ultrasound imaging holds significant promise ...</td>\n",
       "    </tr>\n",
       "    <tr>\n",
       "      <th>4</th>\n",
       "      <td>4</td>\n",
       "      <td>[biomaterial coatings and films can prevent pr...</td>\n",
       "    </tr>\n",
       "    <tr>\n",
       "      <th>...</th>\n",
       "      <td>...</td>\n",
       "      <td>...</td>\n",
       "    </tr>\n",
       "    <tr>\n",
       "      <th>1118</th>\n",
       "      <td>1702</td>\n",
       "      <td>[in biology messenger rna mrna plays a crucial...</td>\n",
       "    </tr>\n",
       "    <tr>\n",
       "      <th>1119</th>\n",
       "      <td>1703</td>\n",
       "      <td>[nanopore direct rna sequencing drs advances r...</td>\n",
       "    </tr>\n",
       "    <tr>\n",
       "      <th>1120</th>\n",
       "      <td>1704</td>\n",
       "      <td>[krabbe disease kd is an autosomal recessive l...</td>\n",
       "    </tr>\n",
       "    <tr>\n",
       "      <th>1121</th>\n",
       "      <td>1708</td>\n",
       "      <td>[hiv1 infection requires lifelong therapy with...</td>\n",
       "    </tr>\n",
       "    <tr>\n",
       "      <th>1122</th>\n",
       "      <td>1710</td>\n",
       "      <td>[background 3′tagbased sequencing methods have...</td>\n",
       "    </tr>\n",
       "  </tbody>\n",
       "</table>\n",
       "<p>1123 rows × 2 columns</p>\n",
       "</div>"
      ],
      "text/plain": [
       "      index                                           abstract\n",
       "0         0  [the taiwan precision medicine initiative tpmi...\n",
       "1         1  [cryptic pockets are of growing interest as po...\n",
       "2         2  [despite decades of reports of weak magnetic f...\n",
       "3         3  [ultrasound imaging holds significant promise ...\n",
       "4         4  [biomaterial coatings and films can prevent pr...\n",
       "...     ...                                                ...\n",
       "1118   1702  [in biology messenger rna mrna plays a crucial...\n",
       "1119   1703  [nanopore direct rna sequencing drs advances r...\n",
       "1120   1704  [krabbe disease kd is an autosomal recessive l...\n",
       "1121   1708  [hiv1 infection requires lifelong therapy with...\n",
       "1122   1710  [background 3′tagbased sequencing methods have...\n",
       "\n",
       "[1123 rows x 2 columns]"
      ]
     },
     "execution_count": 32,
     "metadata": {},
     "output_type": "execute_result"
    }
   ],
   "source": [
    "def tokew(text):\n",
    "    token=sent_tokenize(text)\n",
    "    return token\n",
    "df3['abstract']=df3['abstract'].apply(tokew)\n",
    "df3"
   ]
  },
  {
   "cell_type": "code",
   "execution_count": 33,
   "id": "f93d3743-8cf5-4ccd-9e06-7155ea8bab84",
   "metadata": {},
   "outputs": [
    {
     "data": {
      "text/plain": [
       "['hiv1 infection requires lifelong therapy with antiretroviral drugs due to the existence of a latent reservoir of transcriptionally inactive integrated proviruses.',\n",
       " 'the goal of hiv1 cure research is to eliminate or functionally silence this reservoir.',\n",
       " 'to this end there are numerous ongoing studies to evaluate immunologic approaches including monoclonal antibody therapies.',\n",
       " 'evaluating the results of these studies requires sensitive and specific measures of the reservoir.',\n",
       " 'here we describe a relatively high throughput combined quantitative polymerase chain reaction qpcr and next generation sequencing method.',\n",
       " 'four different qpcr probes covering the packaging signal']"
      ]
     },
     "execution_count": 33,
     "metadata": {},
     "output_type": "execute_result"
    }
   ],
   "source": [
    "df3['abstract'][459]"
   ]
  },
  {
   "cell_type": "code",
   "execution_count": 35,
   "id": "6ff5f629-be8e-4208-bd3d-273a98ad4350",
   "metadata": {},
   "outputs": [],
   "source": [
    "df3.to_csv('C:\\\\Users\\\\PC\\\\Desktop\\\\finalfile.txt',index=False,header=False,sep='\\t')"
   ]
  },
  {
   "cell_type": "code",
   "execution_count": 38,
   "id": "d54b9037-f22b-47fe-b948-bdb91626ff92",
   "metadata": {},
   "outputs": [],
   "source": [
    "ds=[]\n",
    "for a in df3['abstract']:\n",
    "    s=\"\\n\".join(a)\n",
    "    ds.append(s)\n",
    "ds=pd.DataFrame(ds)"
   ]
  },
  {
   "cell_type": "code",
   "execution_count": 39,
   "id": "d212978b-82fb-4ebc-9b47-e55a327ecaad",
   "metadata": {},
   "outputs": [],
   "source": [
    "ds.to_csv('C:\\\\Users\\\\PC\\\\Desktop\\\\finalfile2.txt',index=False,header=False,sep='\\t')"
   ]
  },
  {
   "cell_type": "code",
   "execution_count": 42,
   "id": "4df2b8dd-139d-4fd4-a667-8b842e62bcd6",
   "metadata": {},
   "outputs": [],
   "source": [
    "from sklearn.model_selection import train_test_split\n",
    "data = pd.read_csv(r\"C:\\Users\\PC\\Desktop\\finalfile2.txt\") \n",
    "train_data, test_data = train_test_split(data, test_size=0.2, random_state=42)\n",
    "train_data.to_csv('C:\\\\Users\\\\PC\\\\Desktop\\\\train.txt', index=False)\n",
    "test_data.to_csv('C:\\\\Users\\\\PC\\\\Desktop\\\\test.txt', index=False)\n"
   ]
  },
  {
   "cell_type": "code",
   "execution_count": null,
   "id": "51d01eae-0477-4099-8b5b-58bfdd7cc77b",
   "metadata": {},
   "outputs": [],
   "source": []
  }
 ],
 "metadata": {
  "kernelspec": {
   "display_name": "Python 3 (ipykernel)",
   "language": "python",
   "name": "python3"
  },
  "language_info": {
   "codemirror_mode": {
    "name": "ipython",
    "version": 3
   },
   "file_extension": ".py",
   "mimetype": "text/x-python",
   "name": "python",
   "nbconvert_exporter": "python",
   "pygments_lexer": "ipython3",
   "version": "3.12.1"
  }
 },
 "nbformat": 4,
 "nbformat_minor": 5
}
